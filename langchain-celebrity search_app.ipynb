{
 "cells": [
  {
   "cell_type": "code",
   "execution_count": 4,
   "id": "f937f688-054f-4cdc-98b8-1cc500201860",
   "metadata": {},
   "outputs": [],
   "source": [
    "import os\n",
    "\n",
    "from langchain.llms import OpenAI\n",
    "from langchain import PromptTemplate\n",
    "from langchain.chains import LLMChain\n",
    "import openai\n",
    "from langchain.memory import ConversationBufferMemory\n",
    "\n",
    "from langchain.chains import SequentialChain\n",
    "\n",
    "import streamlit as st"
   ]
  },
  {
   "cell_type": "code",
   "execution_count": 5,
   "id": "0509d980-62af-46e7-ad85-5954a47ba795",
   "metadata": {},
   "outputs": [],
   "source": [
    "openai.api_key ="
   ]
  },
  {
   "cell_type": "code",
   "execution_count": 7,
   "id": "a14631fc-9935-4147-8993-5c26441ce0b7",
   "metadata": {},
   "outputs": [],
   "source": [
    "os.environ[\"OPENAI_API_KEY\"]=openai.api_key"
   ]
  },
  {
   "cell_type": "code",
   "execution_count": 8,
   "id": "fb922cf3-edd3-49ab-b05d-ac6a335f7d6f",
   "metadata": {},
   "outputs": [
    {
     "name": "stderr",
     "output_type": "stream",
     "text": [
      "2024-12-05 14:12:56.004 WARNING streamlit.runtime.scriptrunner_utils.script_run_context: Thread 'MainThread': missing ScriptRunContext! This warning can be ignored when running in bare mode.\n",
      "2024-12-05 14:12:56.073 \n",
      "  \u001b[33m\u001b[1mWarning:\u001b[0m to view this Streamlit app on a browser, run it with the following\n",
      "  command:\n",
      "\n",
      "    streamlit run C:\\Users\\jv028u\\AppData\\Local\\Programs\\Python\\Python312\\Lib\\site-packages\\ipykernel_launcher.py [ARGUMENTS]\n",
      "2024-12-05 14:12:56.074 Thread 'MainThread': missing ScriptRunContext! This warning can be ignored when running in bare mode.\n",
      "2024-12-05 14:12:56.075 Thread 'MainThread': missing ScriptRunContext! This warning can be ignored when running in bare mode.\n",
      "2024-12-05 14:12:56.076 Thread 'MainThread': missing ScriptRunContext! This warning can be ignored when running in bare mode.\n",
      "2024-12-05 14:12:56.077 Thread 'MainThread': missing ScriptRunContext! This warning can be ignored when running in bare mode.\n",
      "2024-12-05 14:12:56.078 Thread 'MainThread': missing ScriptRunContext! This warning can be ignored when running in bare mode.\n",
      "2024-12-05 14:12:56.079 Session state does not function when running a script without `streamlit run`\n",
      "2024-12-05 14:12:56.081 Thread 'MainThread': missing ScriptRunContext! This warning can be ignored when running in bare mode.\n",
      "2024-12-05 14:12:56.082 Thread 'MainThread': missing ScriptRunContext! This warning can be ignored when running in bare mode.\n"
     ]
    }
   ],
   "source": [
    "st.title('Celebrity search results')\n",
    "input_text=st.text_input(\"Search the name you want\")"
   ]
  },
  {
   "cell_type": "markdown",
   "id": "169a69b4-5c30-439f-8b3b-a1509406624c",
   "metadata": {},
   "source": [
    "propmpt->model(OpenAI)-initialisation->llmchain(format propmpt template using input and passes formatted  string to llm and returns output  )"
   ]
  },
  {
   "cell_type": "code",
   "execution_count": null,
   "id": "88100ec6-d1d1-4f84-abc3-8da79067106c",
   "metadata": {},
   "outputs": [],
   "source": [
    "person_memory = ConversationBufferMemory(input_key='name', memory_key='chat_history')\n",
    "dob_memory = ConversationBufferMemory(input_key='person', memory_key='chat_history')\n",
    "descr_memory = ConversationBufferMemory(input_key='dob', memory_key='description_history')"
   ]
  },
  {
   "cell_type": "code",
   "execution_count": 14,
   "id": "32f646a1-8b33-4210-bf97-e22848bdb351",
   "metadata": {},
   "outputs": [
    {
     "name": "stderr",
     "output_type": "stream",
     "text": [
      "C:\\Users\\jv028u\\AppData\\Local\\Programs\\Python\\Python312\\Lib\\site-packages\\IPython\\core\\interactiveshell.py:3577: UserWarning: WARNING! tempratre is not default parameter.\n",
      "                tempratre was transferred to model_kwargs.\n",
      "                Please confirm that tempratre is what you intended.\n",
      "  exec(code_obj, self.user_global_ns, self.user_ns)\n"
     ]
    }
   ],
   "source": [
    "first_input_prompt=PromptTemplate(\n",
    "    input_variables=['name'],\n",
    "    template='Tell me about celebrity {name}'\n",
    ")\n",
    "llm=OpenAI(tempratre=0.8)\n",
    "chain=LLMChain(\n",
    "    llm=llm,prompt=first_input_prompt,verbose=True,output_key='person',memory=person_memory)\n"
   ]
  },
  {
   "cell_type": "code",
   "execution_count": 16,
   "id": "7aa34dd2-6f6b-41f8-888c-f3089e12a078",
   "metadata": {},
   "outputs": [],
   "source": [
    "second_input_prompt=PromptTemplate(\n",
    "    input_variable=['person'],\n",
    "    template='when was {person} born'\n",
    ")\n",
    "\n",
    "chain2=LLMChain(\n",
    "llm=llm,prompt=second_input_prompt,verbose=True,output_key='dob',memory=dob_memory\n",
    ")"
   ]
  },
  {
   "cell_type": "code",
   "execution_count": 17,
   "id": "77c86b80-7094-4201-aab9-4d42917ed0bb",
   "metadata": {},
   "outputs": [],
   "source": [
    "third_input_prompt=PromptTemplate(\n",
    "    input_variables=['dob'],\n",
    "    template=\"Mention 5 major events happened around {dob} in the world\")\n",
    "\n",
    "chain3=LLMChain(llm=llm,prompt=third_input_prompt,verbose=True,output_key='description',memory=descr_memory)"
   ]
  },
  {
   "cell_type": "code",
   "execution_count": 22,
   "id": "e9f89862-ead5-406b-8e96-206a1329dd3d",
   "metadata": {},
   "outputs": [],
   "source": [
    "parent_chain=SequentialChain(\n",
    "    chains=[chain,chain2,chain3],input_variables=['name'],output_variables=['person','dob','description'],verbose=True)\n"
   ]
  },
  {
   "cell_type": "code",
   "execution_count": 23,
   "id": "19c7e0a2-76a2-4db3-8ecd-9936420a5875",
   "metadata": {},
   "outputs": [],
   "source": [
    "if input_text:\n",
    "    st.write(parent_chain({'name':input_text}))\n",
    "    with st.expander('Person Name'): \n",
    "        st.info(person_memory.buffer)\n",
    "\n",
    "    with st.expander('Major Events'): \n",
    "        st.info(descr_memory.buffer)\n",
    "\n"
   ]
  },
  {
   "cell_type": "markdown",
   "id": "8b618154-7d02-4f5a-9489-9faeb5359a58",
   "metadata": {},
   "source": [
    "The expander in Streamlit is a UI component that allows you to hide or show content when clicked. \n",
    "want to display additional information but keep the interface clean"
   ]
  }
 ],
 "metadata": {
  "kernelspec": {
   "display_name": "Python 3 (ipykernel)",
   "language": "python",
   "name": "python3"
  },
  "language_info": {
   "codemirror_mode": {
    "name": "ipython",
    "version": 3
   },
   "file_extension": ".py",
   "mimetype": "text/x-python",
   "name": "python",
   "nbconvert_exporter": "python",
   "pygments_lexer": "ipython3",
   "version": "3.12.6"
  }
 },
 "nbformat": 4,
 "nbformat_minor": 5
}
